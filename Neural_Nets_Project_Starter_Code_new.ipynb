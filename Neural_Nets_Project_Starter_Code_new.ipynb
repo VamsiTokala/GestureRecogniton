{
  "cells": [
    {
      "cell_type": "markdown",
      "metadata": {
        "id": "608vKIRHLVPu"
      },
      "source": [
        "# Gesture Recognition\n",
        "In this group project, you are going to build a 3D Conv model that will be able to predict the 5 gestures correctly. Please import the following libraries to get started."
      ]
    },
    {
      "cell_type": "code",
      "source": [
        "\n"
      ],
      "metadata": {
        "colab": {
          "base_uri": "https://localhost:8080/"
        },
        "id": "d3IONx2OmLKA",
        "outputId": "f4d8fe03-78a0-4642-c84a-1107638f025d"
      },
      "execution_count": null,
      "outputs": [
        {
          "output_type": "stream",
          "name": "stdout",
          "text": [
            "/bin/bash: nvidia-smi: command not found\n"
          ]
        }
      ]
    },
    {
      "cell_type": "code",
      "source": [
        "from google.colab import drive\n",
        "drive.mount('/content/gdrive')"
      ],
      "metadata": {
        "id": "8Ew-QBjYDGNJ",
        "colab": {
          "base_uri": "https://localhost:8080/"
        },
        "outputId": "db6cb7a0-9553-4b11-decf-b2e3141acd47"
      },
      "execution_count": 1,
      "outputs": [
        {
          "output_type": "stream",
          "name": "stdout",
          "text": [
            "Mounted at /content/gdrive\n"
          ]
        }
      ]
    },
    {
      "cell_type": "code",
      "source": [
        "root_path = 'gdrive/My Drive/GestureRecognition/'\n",
        "#https://drive.google.com/file/d/1Aaqc_Psup7SP4uclbHwa2OPSfOmx-uvM/view?usp=share_link # Data shared in following location"
      ],
      "metadata": {
        "id": "_DUDMIgfDvj0"
      },
      "execution_count": 2,
      "outputs": []
    },
    {
      "cell_type": "code",
      "source": [
        "!gdown --id 1Aaqc_Psup7SP4uclbHwa2OPSfOmx-uvM -O 'Project_data.zip' && unzip -q 'Project_data.zip' -d 'Project_data'\n"
      ],
      "metadata": {
        "colab": {
          "base_uri": "https://localhost:8080/"
        },
        "id": "0xJ1pNBIDwLb",
        "outputId": "5799bc8a-dd1d-4c7e-b85a-d6be4e2754a5"
      },
      "execution_count": 3,
      "outputs": [
        {
          "output_type": "stream",
          "name": "stdout",
          "text": [
            "/usr/local/lib/python3.10/dist-packages/gdown/cli.py:121: FutureWarning: Option `--id` was deprecated in version 4.3.1 and will be removed in 5.0. You don't need to pass it anymore to use a file ID.\n",
            "  warnings.warn(\n",
            "Downloading...\n",
            "From: https://drive.google.com/uc?id=1Aaqc_Psup7SP4uclbHwa2OPSfOmx-uvM\n",
            "To: /content/Project_data.zip\n",
            "100% 1.71G/1.71G [00:13<00:00, 123MB/s]\n"
          ]
        }
      ]
    },
    {
      "cell_type": "code",
      "source": [
        "import os\n",
        "\n",
        "# Set the base path to the Project_data directory\n",
        "base_path = '/content/Project_data/Project_data'\n",
        "\n",
        "# Get the full path to the train.csv file\n",
        "train_csv_path = os.path.join(base_path,  'train.csv')\n",
        "\n",
        "# Get the full path to the val.csv file\n",
        "val_csv_path = os.path.join(base_path,  'val.csv')\n",
        "\n",
        "# Print the full paths\n",
        "print(train_csv_path)\n",
        "print(val_csv_path)"
      ],
      "metadata": {
        "colab": {
          "base_uri": "https://localhost:8080/"
        },
        "id": "4CYGjkjeDwe9",
        "outputId": "0c7cf1bc-0ac0-4b6c-b026-2446581f1821"
      },
      "execution_count": 4,
      "outputs": [
        {
          "output_type": "stream",
          "name": "stdout",
          "text": [
            "/content/Project_data/Project_data/train.csv\n",
            "/content/Project_data/Project_data/val.csv\n"
          ]
        }
      ]
    },
    {
      "cell_type": "markdown",
      "source": [
        "# New Section"
      ],
      "metadata": {
        "id": "34SDUEK0avnT"
      }
    },
    {
      "cell_type": "code",
      "execution_count": 5,
      "metadata": {
        "id": "1uBblRTPLVPw"
      },
      "outputs": [],
      "source": [
        "import numpy as np\n",
        "import os\n",
        "import imageio\n",
        "\n",
        "#from scipy.misc import imread, imresize\n",
        "import datetime\n",
        "import os\n",
        "import cv2"
      ]
    },
    {
      "cell_type": "markdown",
      "metadata": {
        "id": "QEwJgicoLVPy"
      },
      "source": [
        "We set the random seed so that the results don't vary drastically."
      ]
    },
    {
      "cell_type": "code",
      "execution_count": 16,
      "metadata": {
        "id": "75ApAieGLVPy"
      },
      "outputs": [],
      "source": [
        "np.random.seed(30)\n",
        "import random as rn\n",
        "rn.seed(30)\n",
        "from keras import backend as K\n",
        "import tensorflow as tf\n",
        "#tf.set_random_seed(30)\n",
        "tf.random.set_seed(30)\n",
        "from skimage.transform import resize, rescale\n",
        "import matplotlib.pyplot as plt\n"
      ]
    },
    {
      "cell_type": "markdown",
      "metadata": {
        "id": "aU18ruWALVPz"
      },
      "source": [
        "*In* this block, you read the folder names for training and validation. You also set the `batch_size` here. Note that you set the batch size in such a way that you are able to use the GPU in full capacity. You keep increasing the batch size until the machine throws an error."
      ]
    },
    {
      "cell_type": "code",
      "execution_count": 26,
      "metadata": {
        "id": "9M6tPlLpLVPz"
      },
      "outputs": [],
      "source": [
        "#train_doc = np.random.permutation(open('/notebooks/storage/Final_data/Collated_training/train.csv').readlines())\n",
        "train_doc = np.random.permutation(open('/content/Project_data/Project_data/train.csv').readlines())\n",
        "#Project_data/Project_data\n",
        "#val_doc = np.random.permutation(open('/notebooks/storage/Final_data/Collated_training/val.csv').readlines())\n",
        "val_doc = np.random.permutation(open('/content/Project_data/Project_data/val.csv').readlines())\n",
        "#batch_size = #experiment with the batch size\n",
        "batch_size = 10\n",
        "num_classes = 5  #number of softmax classes\n"
      ]
    },
    {
      "cell_type": "code",
      "source": [
        "curr_dt_time = datetime.datetime.now()\n",
        "train_path = '/content/Project_data/Project_data/train'\n",
        "val_path = '/content/Project_data/Project_data/val'\n",
        "num_train_sequences = len(train_doc)\n",
        "print('# training sequences =', num_train_sequences)\n",
        "num_val_sequences = len(val_doc)\n",
        "print('# validation sequences =', num_val_sequences)\n"
      ],
      "metadata": {
        "colab": {
          "base_uri": "https://localhost:8080/"
        },
        "id": "2g-mLmumDKmg",
        "outputId": "1878e8cb-a9d6-4d05-b935-16448d9d201b"
      },
      "execution_count": 10,
      "outputs": [
        {
          "output_type": "stream",
          "name": "stdout",
          "text": [
            "# training sequences = 663\n",
            "# validation sequences = 100\n"
          ]
        }
      ]
    },
    {
      "cell_type": "code",
      "source": [
        "Common Utils"
      ],
      "metadata": {
        "id": "KSN2OT_ZWGOP"
      },
      "execution_count": null,
      "outputs": []
    },
    {
      "cell_type": "code",
      "source": [
        "def plot_loss_accuracy(history):\n",
        "    # list all data in history\n",
        "    print(history.history.keys())\n",
        "    # summarize history for accuracy\n",
        "    plt.plot(history.history['categorical_accuracy'])\n",
        "    plt.plot(history.history['val_categorical_accuracy'])\n",
        "    plt.title('model accuracy')\n",
        "    plt.ylabel('accuracy')\n",
        "    plt.xlabel('epoch')\n",
        "    plt.legend(['train', 'test'], loc='upper left')\n",
        "    plt.show()\n",
        "    # summarize history for loss\n",
        "    plt.plot(history.history['loss'])\n",
        "    plt.plot(history.history['val_loss'])\n",
        "    plt.title('model loss')\n",
        "    plt.ylabel('loss')\n",
        "    plt.xlabel('epoch')\n",
        "    plt.legend(['train', 'test'], loc='upper left')\n",
        "    plt.show()"
      ],
      "metadata": {
        "id": "GMi6wPzcWJXY"
      },
      "execution_count": 31,
      "outputs": []
    },
    {
      "cell_type": "code",
      "source": [
        "#Common utility to calculate steps\n",
        "\n",
        "\n",
        "def calculate_steps(num_train_sequences, num_val_sequences, batch_size):\n",
        "    if (num_train_sequences%batch_size) == 0:\n",
        "        steps_per_epoch = int(num_train_sequences/batch_size)\n",
        "    else:\n",
        "        steps_per_epoch = (num_train_sequences//batch_size) + 1\n",
        "\n",
        "    if (num_val_sequences%batch_size) == 0:\n",
        "        validation_steps = int(num_val_sequences/batch_size)\n",
        "    else:\n",
        "        validation_steps = (num_val_sequences//batch_size) + 1\n",
        "\n",
        "    return steps_per_epoch,validation_steps"
      ],
      "metadata": {
        "id": "rxjtGW2ZWMzD"
      },
      "execution_count": 30,
      "outputs": []
    },
    {
      "cell_type": "code",
      "source": [
        "#Common utility for callbacks\n",
        "\n",
        "def model_callbacks(folder_name):\n",
        "    model_name = str(folder_name) + '_' + str(curr_dt_time).replace(' ','').replace(':','_') + '/'\n",
        "   \n",
        "    if not os.path.exists(model_name):\n",
        "        os.mkdir(model_name)\n",
        "\n",
        "    filepath = model_name + 'model-{epoch:05d}-{loss:.5f}-{categorical_accuracy:.5f}-{val_loss:.5f}-{val_categorical_accuracy:.5f}.h5'\n",
        "\n",
        "    checkpoint = ModelCheckpoint(filepath, monitor='val_loss', verbose=1, save_best_only=True, save_weights_only=False, mode='auto', period=1)\n",
        "\n",
        "    LR = ReduceLROnPlateau(monitor='val_loss', factor=0.1, patience=3, min_lr=0.0001, cooldown=1, verbose=1) # write the REducelronplateau code here\n",
        "\n",
        "    return [checkpoint, LR]  "
      ],
      "metadata": {
        "id": "vgiFTn6dWT6b"
      },
      "execution_count": 29,
      "outputs": []
    },
    {
      "cell_type": "markdown",
      "metadata": {
        "id": "JMkQb5ctLVP0"
      },
      "source": [
        "## Generator\n",
        "This is one of the most important part of the code. The overall structure of the generator has been given. In the generator, you are going to preprocess the images as you have images of 2 different dimensions as well as create a batch of video frames. You have to experiment with `img_idx`, `y`,`z` and normalization such that you get high accuracy."
      ]
    },
    {
      "cell_type": "code",
      "execution_count": 17,
      "metadata": {
        "id": "k_7Il5b3LVP0",
        "colab": {
          "base_uri": "https://localhost:8080/",
          "height": 945
        },
        "outputId": "1ce88670-d1d1-41fb-acee-826a0bfa8c63"
      },
      "outputs": [
        {
          "output_type": "stream",
          "name": "stderr",
          "text": [
            "<ipython-input-17-7433f94724a4>:12: DeprecationWarning: Starting with ImageIO v3 the behavior of this function will switch to that of iio.v3.imread. To keep the current behavior (and make this warning disappear) use `import imageio.v2 as imageio` or call `imageio.v2.imread` directly.\n",
            "  image1 = imageio.imread(\"/content/Project_data/Project_data/val/WIN_20180907_15_30_06_Pro_Right Swipe_new/WIN_20180907_15_30_06_Pro_00029.png\")\n",
            "<ipython-input-17-7433f94724a4>:14: DeprecationWarning: Starting with ImageIO v3 the behavior of this function will switch to that of iio.v3.imread. To keep the current behavior (and make this warning disappear) use `import imageio.v2 as imageio` or call `imageio.v2.imread` directly.\n",
            "  image2 = imageio.imread(\"/content/Project_data/Project_data/val/WIN_20180926_17_56_52_Pro_Right_Swipe_new/WIN_20180926_17_56_52_Pro_00029.png\")\n"
          ]
        },
        {
          "output_type": "display_data",
          "data": {
            "text/plain": [
              "<Figure size 640x480 with 1 Axes>"
            ],
            "image/png": "[encoded data removed]"
          },
          "metadata": {}
        },
        {
          "output_type": "display_data",
          "data": {
            "text/plain": [
              "<Figure size 640x480 with 1 Axes>"
            ],
            "image/png": "[encoded data removed]"
          },
          "metadata": {}
        }
      ],
      "source": [
        "from keras.preprocessing.image import ImageDataGenerator\n",
        "#from keras.preprocessing.image import smart_resize\n",
        "\n",
        "datagen = ImageDataGenerator(\n",
        "    zoom_range=0.1,\n",
        "    zca_whitening=True,\n",
        "    width_shift_range=0.1,\n",
        "    height_shift_range=0.1)\n",
        "\n",
        "## Test code start\n",
        "#360 by 360\n",
        "image1 = imageio.imread(\"/content/Project_data/Project_data/val/WIN_20180907_15_30_06_Pro_Right Swipe_new/WIN_20180907_15_30_06_Pro_00029.png\")\n",
        "#160 by 120\n",
        "image2 = imageio.imread(\"/content/Project_data/Project_data/val/WIN_20180926_17_56_52_Pro_Right_Swipe_new/WIN_20180926_17_56_52_Pro_00029.png\")\n",
        "#crop the images and resize them. Note that the images are of 2 different shape \n",
        "#and the conv3D will throw error if the inputs in a batch have different shapes                    \n",
        "#print(image1.shape, image2.shape)\n",
        "image1 = resize(image1, (120, 120), anti_aliasing=True)\n",
        "image1 = datagen.random_transform(image1)                   \n",
        "plt.imshow(image1)\n",
        "plt.show()\n",
        "image2 = resize(image2, (120, 120), anti_aliasing=True)\n",
        "image2 = datagen.random_transform(image2)                 \n",
        "plt.imshow(image2)\n",
        "plt.show()\n",
        "## Test code end\n",
        "\n",
        "def generate(source_path, folder_list, batch_size, num_images=20, height=120, width=120, augment=False):\n",
        "    #print( 'Source path = ', source_path, '; batch size =', batch_size)\n",
        "    total_frames = 30\n",
        "\n",
        "    while True:\n",
        "        t = np.random.permutation(folder_list)\n",
        "        num_batches = len(t)//batch_size # calculate the number of batches\n",
        "        #img_idx = sorted(rn.sample(range(0, total_frames), num_images)) #create a list of image numbers you want to use for a particular video\n",
        "        img_idx = np.round(np.linspace(0,total_frames-1,num_images)).astype(int) #create a list of image numbers you want to use for a particular video\n",
        "\n",
        "        for batch in range(num_batches): # we iterate over the number of batches\n",
        "            batch_data   = np.zeros((batch_size, num_images, height, width, 3)) # 3 is the number of channels RGB\n",
        "            batch_labels = np.zeros((batch_size, 5)) # batch_labels is the one hot representation of the output           \n",
        "\n",
        "            for folder in range(batch_size): # iterate over the batch_size\n",
        "                imgs = os.listdir(source_path+'/'+ t[folder + (batch*batch_size)].split(';')[0]) # read all the images in the folder\n",
        "                for idx,item in enumerate(img_idx): #  Iterate over the frames/images of a folder to read them in\n",
        "                    image = imageio.imread(source_path+'/'+ t[folder + (batch*batch_size)].strip().split(';')[0]+'/'+imgs[item]).astype(np.float32)\n",
        "\n",
        "                    #crop the images and resize them. Note that the images are of 2 different shape \n",
        "                    #and the conv3D will throw error if the inputs in a batch have different shapes                    \n",
        "                    h, w, c = image.shape\n",
        "                    image = resize(image, (height, width), anti_aliasing=True)\n",
        "\n",
        "                    # Randomly transform few images of few folders; note that folders are randomly shuffled in each epoch too\n",
        "                    if augment:\n",
        "                        if np.random.randn() > 0:\n",
        "                            image = datagen.random_transform(image)                   \n",
        "\n",
        "                    batch_data[folder,idx,:,:,0] = (image[...,0])/255 #normalise and feed in the image\n",
        "                    batch_data[folder,idx,:,:,1] = (image[...,1])/255 #normalise and feed in the image\n",
        "                    batch_data[folder,idx,:,:,2] = (image[...,2])/255 #normalise and feed in the image                  \n",
        "                    \n",
        "                batch_labels[folder, int(t[folder + (batch*batch_size)].strip().split(';')[2])] = 1\n",
        "\n",
        "            yield batch_data, batch_labels #you yield the batch_data and the batch_labels, remember what does yield do\n",
        "        \n",
        "        # write the code for the remaining data points which are left after full batches\n",
        "        if (len(t)%batch_size):\n",
        "            remaining_batch_size = len(t)%batch_size\n",
        "            batch_data   = np.zeros((remaining_batch_size, num_images, height, width,3)) # 3 is the number of channels RGB\n",
        "            batch_labels = np.zeros((remaining_batch_size,5)) # batch_labels is the one hot representation of the output           \n",
        "\n",
        "            for folder in range(remaining_batch_size): # iterate over the batch_size\n",
        "                imgs = os.listdir(source_path+'/'+ t[folder + (num_batches*batch_size)].split(';')[0]) # read all the images in the folder\n",
        "                for idx,item in enumerate(img_idx): #  Iterate iver the frames/images of a folder to read them in\n",
        "                    image = imageio.imread(source_path+'/'+ t[folder + (num_batches*batch_size)].strip().split(';')[0]+'/'+imgs[item]).astype(np.float32)\n",
        "                \n",
        "                    #crop the images and resize them. Note that the images are of 2 different shape \n",
        "                    #and the conv3D will throw error if the inputs in a batch have different shapes\n",
        "                    h, w, c = image.shape\n",
        "                    image = resize(image, (height, width), anti_aliasing=True)                          \n",
        "                    \n",
        "                    # Randomly transform few images of few folders; note that folders are randomly shuffled in each epoch too\n",
        "                    if augment:\n",
        "                        if np.random.randn() > 0:\n",
        "                            image = datagen.random_transform(image)                   \n",
        "\n",
        "                    batch_data[folder,idx,:,:,0] = (image[...,0])/255 #normalise and feed in the image\n",
        "                    batch_data[folder,idx,:,:,1] = (image[...,1])/255 #normalise and feed in the image\n",
        "                    batch_data[folder,idx,:,:,2] = (image[...,2])/255 #normalise and feed in the image\n",
        "                    #batch_data[folder,idx,:,:,0] = (image[...,0] - image[...,0].min())/(image[...,0].max() - image[...,0].min())#normalise and feed in the image\n",
        "                    #batch_data[folder,idx,:,:,1] = (image[...,1] - image[...,1].min())/(image[...,1].max() - image[...,1].min())#normalise and feed in the image\n",
        "                    #batch_data[folder,idx,:,:,2] = (image[...,2] - image[...,2].min())/(image[...,2].max() - image[...,2].min())#normalise and feed in the image\n",
        "                    \n",
        "                batch_labels[folder, int(t[folder + (num_batches*batch_size)].strip().split(';')[2])] = 1\n",
        "\n",
        "            yield batch_data, batch_labels #you yield the batch_data and the batch_labels, remember what does yield do"
      ]
    },
    {
      "cell_type": "markdown",
      "metadata": {
        "id": "qP5dRe6iLVP2"
      },
      "source": [
        "Note here that a video is represented above in the generator as (number of images, height, width, number of channels). Take this into consideration while creating the model architecture."
      ]
    },
    {
      "cell_type": "code",
      "execution_count": 18,
      "metadata": {
        "id": "F1suQHeaLVP2",
        "colab": {
          "base_uri": "https://localhost:8080/"
        },
        "outputId": "4a8df197-1e47-498e-f94c-573feb664f68"
      },
      "outputs": [
        {
          "output_type": "stream",
          "name": "stdout",
          "text": [
            "# training sequences = 663\n",
            "# validation sequences = 100\n",
            "# epochs = 20\n"
          ]
        }
      ],
      "source": [
        "curr_dt_time = datetime.datetime.now()\n",
        "#train_path = '/notebooks/storage/Final_data/Collated_training/train'\n",
        "train_path = '/content/Project_data/Project_data/train'\n",
        "\n",
        "#val_path = '/notebooks/storage/Final_data/Collated_training/val'\n",
        "val_path = '/content/Project_data/Project_data/val'\n",
        "num_train_sequences = len(train_doc)\n",
        "print('# training sequences =', num_train_sequences)\n",
        "num_val_sequences = len(val_doc)\n",
        "print('# validation sequences =', num_val_sequences)\n",
        "num_epochs = 20 # choose the number of epochs\n",
        "print ('# epochs =', num_epochs)"
      ]
    },
    {
      "cell_type": "markdown",
      "metadata": {
        "id": "zcTWrGKmLVP3"
      },
      "source": [
        "## Model\n",
        "Here you make the model using different functionalities that Keras provides. Remember to use `Conv3D` and `MaxPooling3D` and not `Conv2D` and `Maxpooling2D` for a 3D convolution model. You would want to use `TimeDistributed` while building a Conv2D + RNN model. Also remember that the last layer is the softmax. Design the network in such a way that the model is able to give good accuracy on the least number of parameters so that it can fit in the memory of the webcam."
      ]
    },
    {
      "cell_type": "code",
      "source": [
        "   # initialising the batch size, frames to sample and the no. of epochs\n",
        "  # def initialize_hyperparams(self,frames_to_sample=30,batch_size=20,num_epochs=20):\n",
        "   #     self.frames_to_sample=frames_to_sample\n",
        "    #    self.batch_size=batch_size\n",
        "     #   self.num_epochs=num_epochs"
      ],
      "metadata": {
        "id": "cwQBnXbi19T5"
      },
      "execution_count": null,
      "outputs": []
    },
    {
      "cell_type": "code",
      "source": [
        "from keras.models import Sequential, Model\n",
        "from keras.layers import Dense, Dropout, GRU, LSTM, Flatten, TimeDistributed, Flatten, BatchNormalization, Activation\n",
        "\n",
        "#from keras.layers import Dense, GRU, Flatten, TimeDistributed, Flatten, BatchNormalization, Activation\n",
        "from keras.layers.convolutional import Conv3D, MaxPooling3D\n",
        "from keras.callbacks import ModelCheckpoint, ReduceLROnPlateau\n",
        "from keras import optimizers"
      ],
      "metadata": {
        "id": "TE9DsYwgZu72"
      },
      "execution_count": 23,
      "outputs": []
    },
    {
      "cell_type": "markdown",
      "source": [
        "Conv3d Models\n"
      ],
      "metadata": {
        "id": "VUXJm7vZZ3xD"
      }
    },
    {
      "cell_type": "code",
      "source": [
        "# Common utility to create conv 3D models\n",
        "def conv3D(conv_filters=(16, 32, 64, 128), dense_nodes=(256,128), dropout=0.25, num_images=20, height=120, width=120):\n",
        "\n",
        "    model = Sequential()\n",
        "\n",
        "    model.add(Conv3D(conv_filters[0], (3, 3, 3), padding='same', input_shape=(num_images, height, width, 3)))\n",
        "    model.add(Activation('relu'))\n",
        "    model.add(BatchNormalization())\n",
        "    model.add(MaxPooling3D(pool_size=(2, 2, 2)))\n",
        "\n",
        "    model.add(Conv3D(conv_filters[1], (3, 3, 3), padding='same'))\n",
        "    model.add(Activation('relu'))\n",
        "    model.add(BatchNormalization())\n",
        "    model.add(MaxPooling3D(pool_size=(2, 2, 2)))\n",
        "    \n",
        "    model.add(Conv3D(conv_filters[2], (3, 3, 3), padding='same'))\n",
        "    model.add(Activation('relu'))\n",
        "    model.add(BatchNormalization())\n",
        "    model.add(MaxPooling3D(pool_size=(2, 2, 2)))\n",
        "    \n",
        "    model.add(Conv3D(conv_filters[3], (3, 3, 3), padding='same'))    \n",
        "    model.add(Activation('relu'))\n",
        "    model.add(BatchNormalization())\n",
        "    model.add(MaxPooling3D(pool_size=(2, 2, 2)))\n",
        "    \n",
        "    model.add(Flatten())\n",
        "    model.add(Dense(dense_nodes[0]))\n",
        "    model.add(Activation('relu'))\n",
        "    model.add(BatchNormalization())\n",
        "    model.add(Dropout(dropout))\n",
        "\n",
        "    model.add(Dense(dense_nodes[1]))\n",
        "    model.add(Activation('relu'))\n",
        "    model.add(BatchNormalization())\n",
        "    model.add(Dropout(dropout))\n",
        "\n",
        "    model.add(Dense(num_classes))\n",
        "    model.add(Activation('softmax'))\n",
        "\n",
        "    opt = optimizers.Adam() #write your optimizer\n",
        "    model.compile(opt, loss='categorical_crossentropy', metrics=['categorical_accuracy'])    \n",
        "    \n",
        "    return model"
      ],
      "metadata": {
        "id": "k-xGoDgOZ1Ui"
      },
      "execution_count": 24,
      "outputs": []
    },
    {
      "cell_type": "markdown",
      "source": [
        "Conv 3D Model with 30 frames per video (16, 32, 64, 128 filters conv 3D layers + 256 dense layer + 128 dense layer + image size 120 by 120)\n"
      ],
      "metadata": {
        "id": "Z6y1EIAlZ__X"
      }
    },
    {
      "cell_type": "code",
      "source": [
        "num_epochs = 25 # choose the number of epochs\n",
        "print ('# epochs =', num_epochs)\n",
        "batch_size = 10  #experiment with the batch size\n",
        "print ('# batch size =', batch_size)\n",
        "num_frames = 30\n",
        "print ('# num_frames per video =', num_frames)\n",
        "height = 120\n",
        "width = 120\n",
        "\n",
        "model = conv3D(num_images=num_frames)\n",
        "\n",
        "print (model.summary())"
      ],
      "metadata": {
        "colab": {
          "base_uri": "https://localhost:8080/"
        },
        "id": "QbXAxTFNZ91k",
        "outputId": "3e5cbae5-2eba-4bbf-b143-f99ca9d26a7f"
      },
      "execution_count": 27,
      "outputs": [
        {
          "output_type": "stream",
          "name": "stdout",
          "text": [
            "# epochs = 25\n",
            "# batch size = 10\n",
            "# num_frames per video = 30\n",
            "Model: \"sequential_2\"\n",
            "_________________________________________________________________\n",
            " Layer (type)                Output Shape              Param #   \n",
            "=================================================================\n",
            " conv3d_8 (Conv3D)           (None, 30, 120, 120, 16)  1312      \n",
            "                                                                 \n",
            " activation_11 (Activation)  (None, 30, 120, 120, 16)  0         \n",
            "                                                                 \n",
            " batch_normalization_11 (Bat  (None, 30, 120, 120, 16)  64       \n",
            " chNormalization)                                                \n",
            "                                                                 \n",
            " max_pooling3d_8 (MaxPooling  (None, 15, 60, 60, 16)   0         \n",
            " 3D)                                                             \n",
            "                                                                 \n",
            " conv3d_9 (Conv3D)           (None, 15, 60, 60, 32)    13856     \n",
            "                                                                 \n",
            " activation_12 (Activation)  (None, 15, 60, 60, 32)    0         \n",
            "                                                                 \n",
            " batch_normalization_12 (Bat  (None, 15, 60, 60, 32)   128       \n",
            " chNormalization)                                                \n",
            "                                                                 \n",
            " max_pooling3d_9 (MaxPooling  (None, 7, 30, 30, 32)    0         \n",
            " 3D)                                                             \n",
            "                                                                 \n",
            " conv3d_10 (Conv3D)          (None, 7, 30, 30, 64)     55360     \n",
            "                                                                 \n",
            " activation_13 (Activation)  (None, 7, 30, 30, 64)     0         \n",
            "                                                                 \n",
            " batch_normalization_13 (Bat  (None, 7, 30, 30, 64)    256       \n",
            " chNormalization)                                                \n",
            "                                                                 \n",
            " max_pooling3d_10 (MaxPoolin  (None, 3, 15, 15, 64)    0         \n",
            " g3D)                                                            \n",
            "                                                                 \n",
            " conv3d_11 (Conv3D)          (None, 3, 15, 15, 128)    221312    \n",
            "                                                                 \n",
            " activation_14 (Activation)  (None, 3, 15, 15, 128)    0         \n",
            "                                                                 \n",
            " batch_normalization_14 (Bat  (None, 3, 15, 15, 128)   512       \n",
            " chNormalization)                                                \n",
            "                                                                 \n",
            " max_pooling3d_11 (MaxPoolin  (None, 1, 7, 7, 128)     0         \n",
            " g3D)                                                            \n",
            "                                                                 \n",
            " flatten_2 (Flatten)         (None, 6272)              0         \n",
            "                                                                 \n",
            " dense_3 (Dense)             (None, 256)               1605888   \n",
            "                                                                 \n",
            " activation_15 (Activation)  (None, 256)               0         \n",
            "                                                                 \n",
            " batch_normalization_15 (Bat  (None, 256)              1024      \n",
            " chNormalization)                                                \n",
            "                                                                 \n",
            " dropout_2 (Dropout)         (None, 256)               0         \n",
            "                                                                 \n",
            " dense_4 (Dense)             (None, 128)               32896     \n",
            "                                                                 \n",
            " activation_16 (Activation)  (None, 128)               0         \n",
            "                                                                 \n",
            " batch_normalization_16 (Bat  (None, 128)              512       \n",
            " chNormalization)                                                \n",
            "                                                                 \n",
            " dropout_3 (Dropout)         (None, 128)               0         \n",
            "                                                                 \n",
            " dense_5 (Dense)             (None, 5)                 645       \n",
            "                                                                 \n",
            " activation_17 (Activation)  (None, 5)                 0         \n",
            "                                                                 \n",
            "=================================================================\n",
            "Total params: 1,933,765\n",
            "Trainable params: 1,932,517\n",
            "Non-trainable params: 1,248\n",
            "_________________________________________________________________\n",
            "None\n"
          ]
        }
      ]
    },
    {
      "cell_type": "markdown",
      "source": [
        "The steps_per_epoch and validation_steps are used by fit_generator to decide the number of next() calls it need to make. Let us now fit the model. This will start training the model and with the help of the checkpoints, you'll be able to save the model at the end of each epoch.\n",
        "\n"
      ],
      "metadata": {
        "id": "xefn5LvKa23Z"
      }
    },
    {
      "cell_type": "code",
      "source": [
        "callbacks_list = model_callbacks(\"model_conv3D_1\")\n",
        "\n",
        "steps_per_epoch, validation_steps = calculate_steps(num_train_sequences, num_val_sequences, batch_size)\n",
        "\n",
        "train_generator = generate(train_path, train_doc, batch_size, num_images=num_frames)\n",
        "\n",
        "val_generator   = generate(val_path, val_doc, batch_size, num_images=num_frames)"
      ],
      "metadata": {
        "colab": {
          "base_uri": "https://localhost:8080/"
        },
        "id": "rN4IiAEFa1co",
        "outputId": "b0c7ec43-5eb2-41c4-a861-d0500deda8f9"
      },
      "execution_count": 32,
      "outputs": [
        {
          "output_type": "stream",
          "name": "stderr",
          "text": [
            "WARNING:tensorflow:`period` argument is deprecated. Please use `save_freq` to specify the frequency in number of batches seen.\n"
          ]
        }
      ]
    },
    {
      "cell_type": "code",
      "source": [
        "history = model.fit_generator(train_generator, steps_per_epoch=steps_per_epoch, epochs=num_epochs, verbose=1, \n",
        "                             callbacks=callbacks_list, validation_data=val_generator, \n",
        "                             validation_steps=validation_steps, class_weight=None, workers=1, initial_epoch=0)"
      ],
      "metadata": {
        "colab": {
          "base_uri": "https://localhost:8080/"
        },
        "id": "WzAao3E9a9cV",
        "outputId": "b5b84ff9-54d2-45d8-f108-10b1126b90c7"
      },
      "execution_count": null,
      "outputs": [
        {
          "output_type": "stream",
          "name": "stderr",
          "text": [
            "<ipython-input-33-6cd55824bb51>:1: UserWarning: `Model.fit_generator` is deprecated and will be removed in a future version. Please use `Model.fit`, which supports generators.\n",
            "  history = model.fit_generator(train_generator, steps_per_epoch=steps_per_epoch, epochs=num_epochs, verbose=1,\n",
            "<ipython-input-17-7433f94724a4>:45: DeprecationWarning: Starting with ImageIO v3 the behavior of this function will switch to that of iio.v3.imread. To keep the current behavior (and make this warning disappear) use `import imageio.v2 as imageio` or call `imageio.v2.imread` directly.\n",
            "  image = imageio.imread(source_path+'/'+ t[folder + (batch*batch_size)].strip().split(';')[0]+'/'+imgs[item]).astype(np.float32)\n"
          ]
        },
        {
          "output_type": "stream",
          "name": "stdout",
          "text": [
            "Epoch 1/25\n",
            "65/67 [============================>.] - ETA: 50s - loss: 1.5822 - categorical_accuracy: 0.4031 "
          ]
        },
        {
          "output_type": "stream",
          "name": "stderr",
          "text": [
            "<ipython-input-17-7433f94724a4>:74: DeprecationWarning: Starting with ImageIO v3 the behavior of this function will switch to that of iio.v3.imread. To keep the current behavior (and make this warning disappear) use `import imageio.v2 as imageio` or call `imageio.v2.imread` directly.\n",
            "  image = imageio.imread(source_path+'/'+ t[folder + (num_batches*batch_size)].strip().split(';')[0]+'/'+imgs[item]).astype(np.float32)\n"
          ]
        },
        {
          "output_type": "stream",
          "name": "stdout",
          "text": [
            "67/67 [==============================] - ETA: 0s - loss: 1.5841 - categorical_accuracy: 0.4027 \n",
            "Epoch 1: val_loss improved from inf to 2.29312, saving model to model_conv3D_1_2023-05-1715_48_40.170613/model-00001-1.58406-0.40271-2.29312-0.28000.h5\n",
            "67/67 [==============================] - 1767s 26s/step - loss: 1.5841 - categorical_accuracy: 0.4027 - val_loss: 2.2931 - val_categorical_accuracy: 0.2800 - lr: 0.0010\n",
            "Epoch 2/25\n",
            " 7/67 [==>...........................] - ETA: 24:30 - loss: 1.3668 - categorical_accuracy: 0.4714"
          ]
        }
      ]
    },
    {
      "cell_type": "code",
      "execution_count": null,
      "metadata": {
        "id": "lJwWnWCFLVP3"
      },
      "outputs": [],
      "source": [
        "plot_loss_accuracy(history)\n"
      ]
    },
    {
      "cell_type": "markdown",
      "source": [
        "Conv 3D Model with 20 frames per video (16, 32, 64, 128 filters conv 3D layers + 256 dense layer + 128 dense layer + image size 120 by 120)\n"
      ],
      "metadata": {
        "id": "HX6XgI3Ger4J"
      }
    },
    {
      "cell_type": "code",
      "source": [
        "num_epochs = 20 # choose the number of epochs\n",
        "#print ('# epochs =', num_epochs)\n",
        "batch_size = 10  #experiment with the batch size\n",
        "print ('# batch size =', batch_size)\n",
        "num_frames = 20\n",
        "print ('# num_frames per video =', num_frames)\n",
        "height = 120\n",
        "width = 120\n",
        "\n",
        "model = conv3D(num_images=num_frames)\n",
        "\n",
        "print (model.summary())"
      ],
      "metadata": {
        "id": "An0hNXhcexTW"
      },
      "execution_count": null,
      "outputs": []
    },
    {
      "cell_type": "markdown",
      "metadata": {
        "id": "UOSWdqE5LVP4"
      },
      "source": [
        "\n",
        "\n",
        "```\n",
        "# This is formatted as code\n",
        "```\n",
        "\n",
        "The steps_per_epoch and validation_steps are used by fit_generator to decide the number of next() calls it need to make. Let us now fit the model. This will start training the model and with the help of the checkpoints, you'll be able to save the model at the end of each epoch.\n",
        "\n"
      ]
    },
    {
      "cell_type": "code",
      "source": [
        "callbacks_list = model_callbacks(\"model_conv3D_2\")\n",
        "\n",
        "steps_per_epoch, validation_steps = calculate_steps(num_train_sequences, num_val_sequences, batch_size)\n",
        "\n",
        "train_generator = generate(train_path, train_doc, batch_size, num_images=num_frames)\n",
        "\n",
        "val_generator   = generate(val_path, val_doc, batch_size, num_images=num_frames)"
      ],
      "metadata": {
        "id": "01fC8r0zeswK"
      },
      "execution_count": null,
      "outputs": []
    },
    {
      "cell_type": "markdown",
      "source": [],
      "metadata": {
        "id": "ZLGKPMKi3Pfr"
      }
    },
    {
      "cell_type": "code",
      "execution_count": null,
      "metadata": {
        "id": "k7kNzr9dLVP5"
      },
      "outputs": [],
      "source": [
        "history = model.fit_generator(train_generator, steps_per_epoch=steps_per_epoch, epochs=num_epochs, verbose=1, \n",
        "                              callbacks=callbacks_list, validation_data=val_generator, \n",
        "                              validation_steps=validation_steps, class_weight=None, workers=1, initial_epoch=0)"
      ]
    },
    {
      "cell_type": "code",
      "execution_count": null,
      "metadata": {
        "id": "924yFovrLVP6"
      },
      "outputs": [],
      "source": []
    },
    {
      "cell_type": "code",
      "source": [],
      "metadata": {
        "id": "GgcJ-AKZef4h"
      },
      "execution_count": null,
      "outputs": []
    },
    {
      "cell_type": "code",
      "source": [],
      "metadata": {
        "id": "n3qp7h0nfEsA"
      },
      "execution_count": null,
      "outputs": []
    }
  ],
  "metadata": {
    "kernelspec": {
      "display_name": "Python 3",
      "language": "python",
      "name": "python3"
    },
    "language_info": {
      "codemirror_mode": {
        "name": "ipython",
        "version": 3
      },
      "file_extension": ".py",
      "mimetype": "text/x-python",
      "name": "python",
      "nbconvert_exporter": "python",
      "pygments_lexer": "ipython3",
      "version": "3.6.5"
    },
    "colab": {
      "provenance": [],
      "toc_visible": true
    }
  },
  "nbformat": 4,
  "nbformat_minor": 0
}